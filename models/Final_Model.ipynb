{
 "cells": [
  {
   "cell_type": "code",
   "execution_count": 53,
   "metadata": {},
   "outputs": [],
   "source": [
    "import pandas as pd\n",
    "import numpy as np\n",
    "from sklearn.model_selection import train_test_split\n",
    "\n",
    "nba_ = pd.read_csv(\"/Users/ncapofari/Documents/CUNY_SPS/Capstone/%s\" \n",
    "                  % \"nba_scraper/data_sets/4factor_model_data.csv\")\n",
    "\n",
    "nba = nba_[nba_['Seed_Diff'] > 0]\n",
    "nba = nba_[nba_['Seed_Diff'] > 1]\n",
    "nba = nba_[nba_['Seed_Diff'] == 1]\n",
    "\n",
    "train_set, test_set = train_test_split(nba, \n",
    "                                       test_size=0.2, \n",
    "                                       random_state=23)"
   ]
  },
  {
   "cell_type": "code",
   "execution_count": 54,
   "metadata": {},
   "outputs": [],
   "source": [
    "#models\n",
    "\n",
    "nba_train = train_set[\"Seed_Diff\"].copy().values.reshape(-1, 1)\n",
    "nba_train = train_set[\"Pyt_Win_Pct_Diff\"].copy().values.reshape(-1, 1)\n",
    "nba_train = train_set.drop([\"Seed_Diff\",\"Pyt_Win_Pct_Diff\",\n",
    "                            \"Won_Series\", \"id\"], axis=1)\n",
    "\n",
    "f = \"four_fact_KNN_is_one\"\n",
    "\n",
    "nba_labels = train_set[\"Won_Series\"].copy()\n",
    "nba_labels = (nba_labels == 1)\n",
    "nba_test = test_set.copy()"
   ]
  },
  {
   "cell_type": "code",
   "execution_count": 55,
   "metadata": {},
   "outputs": [
    {
     "name": "stdout",
     "output_type": "stream",
     "text": [
      "(118, 15)\n"
     ]
    }
   ],
   "source": [
    "from sklearn.preprocessing import StandardScaler\n",
    "from sklearn.pipeline import Pipeline\n",
    "from sklearn.feature_selection import SelectKBest\n",
    "from sklearn.feature_selection import f_classif\n",
    "\n",
    "pipeline = Pipeline([\n",
    "    ('std_scaler', StandardScaler()),\n",
    "    #('select', SelectKBest(f_classif, 5))\n",
    "])\n",
    "\n",
    "nba_prepared = pipeline.fit_transform(nba_train, nba_labels)\n",
    "print(nba_prepared.shape)"
   ]
  },
  {
   "cell_type": "code",
   "execution_count": 56,
   "metadata": {},
   "outputs": [
    {
     "name": "stdout",
     "output_type": "stream",
     "text": [
      "Best estimator found by grid search:\n",
      "KNeighborsClassifier(algorithm='auto', leaf_size=30, metric='minkowski',\n",
      "           metric_params=None, n_jobs=1, n_neighbors=4, p=2,\n",
      "           weights='uniform')\n"
     ]
    }
   ],
   "source": [
    "from sklearn.neighbors import KNeighborsClassifier\n",
    "from sklearn.model_selection import GridSearchCV\n",
    "\n",
    "knn_clf = KNeighborsClassifier()\n",
    "param_grid = {'n_neighbors': [2,4,6,8,10,12],\n",
    "              'weights': ['uniform','distance'], }\n",
    "knn_clf = GridSearchCV(knn_clf, param_grid, cv=5)\n",
    "knn_clf.fit(nba_prepared, nba_labels)\n",
    "\n",
    "print(\"Best estimator found by grid search:\")\n",
    "print(knn_clf.best_estimator_)"
   ]
  },
  {
   "cell_type": "code",
   "execution_count": 57,
   "metadata": {},
   "outputs": [],
   "source": [
    "from sklearn.model_selection import cross_val_score\n",
    "from sklearn.model_selection import cross_val_predict\n",
    "from sklearn.metrics import confusion_matrix, precision_score\n",
    "from sklearn.metrics import roc_curve, roc_auc_score\n",
    "\n",
    "def scores(m, fs, tgt, fname):\n",
    "    cross_val_score(m, fs, tgt, cv=5)\n",
    "    y_train_pred = cross_val_predict(m, fs, tgt, cv=5)\n",
    "    print(confusion_matrix(tgt, y_train_pred))\n",
    "    print(\"precision score:\", precision_score(tgt, y_train_pred))\n",
    "    fpr, tpr, thresholds = roc_curve(tgt, y_train_pred)\n",
    "    print(\"roc_auc:\", roc_auc_score(tgt, y_train_pred))\n",
    "    temp = pd.DataFrame({\"fpr\":fpr, \"tpr\":tpr, \"thresholds\":thresholds})\n",
    "    temp.to_csv(\"scores/\"+fname+\".csv\")\n",
    "    preds = pd.DataFrame({\"Prediction\":y_train_pred})\n",
    "    x = pd.concat([preds.reset_index(drop=True), \n",
    "                   train_set.reset_index(drop=True)], axis=1)\n",
    "    x.to_csv(\"results/\"+fname+\".csv\")"
   ]
  },
  {
   "cell_type": "code",
   "execution_count": 58,
   "metadata": {},
   "outputs": [
    {
     "name": "stdout",
     "output_type": "stream",
     "text": [
      "[[42 23]\n",
      " [38 15]]\n",
      "precision score: 0.39473684210526316\n",
      "roc_auc: 0.46458635703918716\n"
     ]
    }
   ],
   "source": [
    "scores(knn_clf, nba_prepared, nba_labels, f)"
   ]
  }
 ],
 "metadata": {
  "kernelspec": {
   "display_name": "Python 3",
   "language": "python",
   "name": "python3"
  },
  "language_info": {
   "codemirror_mode": {
    "name": "ipython",
    "version": 3
   },
   "file_extension": ".py",
   "mimetype": "text/x-python",
   "name": "python",
   "nbconvert_exporter": "python",
   "pygments_lexer": "ipython3",
   "version": "3.5.1"
  }
 },
 "nbformat": 4,
 "nbformat_minor": 2
}
