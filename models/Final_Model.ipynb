{
 "cells": [
  {
   "cell_type": "code",
   "execution_count": 31,
   "metadata": {},
   "outputs": [
    {
     "name": "stdout",
     "output_type": "stream",
     "text": [
      "[[ 5  1]\n",
      " [14 43]]\n",
      "precision score: 0.9772727272727273\n",
      "roc_auc: 0.7938596491228072\n"
     ]
    }
   ],
   "source": [
    "import pandas as pd\n",
    "import numpy as np\n",
    "from sklearn.model_selection import train_test_split\n",
    "from sklearn.preprocessing import StandardScaler\n",
    "from sklearn.pipeline import Pipeline\n",
    "from sklearn.svm import SVC\n",
    "from sklearn.model_selection import cross_val_score\n",
    "from sklearn.model_selection import cross_val_predict\n",
    "from sklearn.metrics import confusion_matrix, precision_score\n",
    "from sklearn.metrics import roc_curve, roc_auc_score\n",
    "\n",
    "nba_ = pd.read_csv(\"/Users/ncapofari/Documents/CUNY_SPS/Capstone/%s\" \n",
    "                  % \"nba_scraper/data_sets/4factor_model_data.csv\")\n",
    "\n",
    "train_set, test_set = train_test_split(nba_, \n",
    "                                       test_size=0.2, \n",
    "                                       random_state=23)\n",
    "train_setG1 = train_set[train_set['Seed_Diff'] > 1]\n",
    "\n",
    "nba_train = train_setG1[\"Pyt_Win_Pct_Diff\"].copy().values.reshape(-1, 1)\n",
    "nba_labels = train_setG1[\"Won_Series\"].copy()\n",
    "nba_labels = (nba_labels == 1)\n",
    "\n",
    "pipeline = Pipeline([\n",
    "    ('std_scaler', StandardScaler())\n",
    "])\n",
    "\n",
    "nba_prepared = pipeline.fit_transform(nba_train, nba_labels)\n",
    "svc_clf = SVC(C=5000.0, cache_size=200, class_weight='balanced', coef0=0.0,\n",
    "  decision_function_shape='ovr', degree=3, gamma=0.1, kernel='rbf',\n",
    "  max_iter=-1, probability=False, random_state=None, shrinking=True,\n",
    "  tol=0.001, verbose=False)\n",
    "svc_clf.fit(nba_prepared, nba_labels)\n",
    "\n",
    "test_setG1 = test_set[test_set['Seed_Diff'] > 1]\n",
    "nba_test = test_setG1[\"Pyt_Win_Pct_Diff\"].copy().values.reshape(-1, 1)\n",
    "\n",
    "nba_test_labels = test_setG1[\"Won_Series\"].copy()\n",
    "nba_test_labels = (nba_test_labels == 1)\n",
    "\n",
    "nba_test_prepared = pipeline.transform(nba_test)\n",
    "y_test_pred = svc_clf.predict(nba_test_prepared)\n",
    "\n",
    "print(confusion_matrix(nba_test_labels, y_test_pred))\n",
    "print(\"precision score:\", precision_score(nba_test_labels, y_test_pred))\n",
    "fpr, tpr, thresholds = roc_curve(nba_test_labels, y_test_pred)\n",
    "print(\"roc_auc:\", roc_auc_score(nba_test_labels, y_test_pred))"
   ]
  },
  {
   "cell_type": "code",
   "execution_count": 37,
   "metadata": {},
   "outputs": [
    {
     "name": "stdout",
     "output_type": "stream",
     "text": [
      "[[ 7  9]\n",
      " [13  4]]\n",
      "precision score: 0.3076923076923077\n",
      "roc_auc: 0.33639705882352944\n"
     ]
    }
   ],
   "source": [
    "from sklearn.ensemble import RandomForestClassifier\n",
    "\n",
    "train_setE = train_set[train_set['Seed_Diff'] == 1]\n",
    "nba_train = train_setE[['eFG..Misc', 'TOV..Misc', 'FT.FGA.Misc', \n",
    "                        'DRB..Misc', 'ORB..Misc_._Opponent']]\n",
    "\n",
    "nba_labels = train_setE[\"Won_Series\"].copy()\n",
    "nba_labels = (nba_labels == 1)\n",
    "\n",
    "pipeline = Pipeline([\n",
    "    ('std_scaler', StandardScaler()),\n",
    "])\n",
    "\n",
    "nba_prepared = pipeline.fit_transform(nba_train, nba_labels)\n",
    "rfc_clf = RandomForestClassifier(bootstrap=True, class_weight=None, criterion='gini',\n",
    "            max_depth=None, max_features='auto', max_leaf_nodes=None,\n",
    "            min_impurity_decrease=0.0, min_impurity_split=None,\n",
    "            min_samples_leaf=1, min_samples_split=2,\n",
    "            min_weight_fraction_leaf=0.0, n_estimators=20, n_jobs=1,\n",
    "            oob_score=False, random_state=23, verbose=0, warm_start=False)\n",
    "rfc_clf.fit(nba_prepared, nba_labels)\n",
    "\n",
    "test_setE = test_set[test_set['Seed_Diff'] == 1]\n",
    "nba_test = test_setE[['eFG..Misc', 'TOV..Misc', 'FT.FGA.Misc', \n",
    "                      'DRB..Misc', 'ORB..Misc_._Opponent']]\n",
    "\n",
    "nba_test_labels = test_setE[\"Won_Series\"].copy()\n",
    "nba_test_labels = (nba_test_labels == 1)\n",
    "\n",
    "nba_test_prepared = pipeline.transform(nba_test)\n",
    "y_test_pred = rfc_clf.predict(nba_test_prepared)\n",
    "\n",
    "print(confusion_matrix(nba_test_labels, y_test_pred))\n",
    "print(\"precision score:\", precision_score(nba_test_labels, y_test_pred))\n",
    "fpr, tpr, thresholds = roc_curve(nba_test_labels, y_test_pred)\n",
    "print(\"roc_auc:\", roc_auc_score(nba_test_labels, y_test_pred))"
   ]
  }
 ],
 "metadata": {
  "kernelspec": {
   "display_name": "Python 3",
   "language": "python",
   "name": "python3"
  },
  "language_info": {
   "codemirror_mode": {
    "name": "ipython",
    "version": 3
   },
   "file_extension": ".py",
   "mimetype": "text/x-python",
   "name": "python",
   "nbconvert_exporter": "python",
   "pygments_lexer": "ipython3",
   "version": "3.5.1"
  }
 },
 "nbformat": 4,
 "nbformat_minor": 2
}
