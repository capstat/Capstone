{
 "cells": [
  {
   "cell_type": "code",
   "execution_count": 95,
   "metadata": {},
   "outputs": [],
   "source": [
    "import pandas as pd\n",
    "import numpy as np\n",
    "from sklearn.model_selection import train_test_split\n",
    "\n",
    "nba_ = pd.read_csv(\"/Users/ncapofari/Documents/CUNY_SPS/Capstone/%s\" \n",
    "                  % \"nba_scraper/data_sets/4factor_model_data.csv\")\n",
    "\n",
    "nba = nba_[nba_['Seed_Diff'] > 0]\n",
    "nba = nba_[nba_['Seed_Diff'] > 1]\n",
    "nba = nba_[nba_['Seed_Diff'] == 1]\n",
    "\n",
    "train_set, test_set = train_test_split(nba, \n",
    "                                       test_size=0.2, \n",
    "                                       random_state=23)"
   ]
  },
  {
   "cell_type": "code",
   "execution_count": 96,
   "metadata": {},
   "outputs": [],
   "source": [
    "#models\n",
    "\n",
    "#nba_train = train_set[\"Seed_Diff\"].copy().values.reshape(-1, 1)\n",
    "#nba_train = train_set[\"Pyt_Win_Pct_Diff\"].copy().values.reshape(-1, 1)\n",
    "nba_train = train_set.drop([\"Seed_Diff\",\"Pyt_Win_Pct_Diff\",\n",
    "                            \"Won_Series\", \"id\"], axis=1)\n",
    "\n",
    "f = \"four_fact_SVC_is_one\"\n",
    "\n",
    "nba_labels = train_set[\"Won_Series\"].copy()\n",
    "nba_labels = (nba_labels == 1)\n",
    "nba_test = test_set.copy()"
   ]
  },
  {
   "cell_type": "code",
   "execution_count": 97,
   "metadata": {},
   "outputs": [
    {
     "name": "stdout",
     "output_type": "stream",
     "text": [
      "(118, 5)\n"
     ]
    },
    {
     "data": {
      "text/plain": [
       "Index(['TOV..Misc', 'ORB..Misc', 'DRB..Misc', 'Opp.eFG..Misc_._Opponent',\n",
       "       'Opp.TOV..Misc_._Opponent'],\n",
       "      dtype='object')"
      ]
     },
     "execution_count": 97,
     "metadata": {},
     "output_type": "execute_result"
    }
   ],
   "source": [
    "from sklearn.preprocessing import StandardScaler\n",
    "from sklearn.pipeline import Pipeline\n",
    "from sklearn.feature_selection import SelectKBest\n",
    "from sklearn.feature_selection import f_classif\n",
    "\n",
    "pipeline = Pipeline([\n",
    "    ('std_scaler', StandardScaler()),\n",
    "    ('select', SelectKBest(f_classif, 5))\n",
    "])\n",
    "\n",
    "nba_prepared = pipeline.fit_transform(nba_train, nba_labels)\n",
    "print(nba_prepared.shape)\n",
    "\n",
    "features = pipeline.named_steps['select']\n",
    "\n",
    "nba_train.columns[features.get_support()]"
   ]
  },
  {
   "cell_type": "code",
   "execution_count": 98,
   "metadata": {},
   "outputs": [
    {
     "name": "stdout",
     "output_type": "stream",
     "text": [
      "Best estimator found by grid search:\n",
      "SVC(C=1000.0, cache_size=200, class_weight='balanced', coef0=0.0,\n",
      "  decision_function_shape='ovr', degree=3, gamma=0.0001, kernel='rbf',\n",
      "  max_iter=-1, probability=False, random_state=None, shrinking=True,\n",
      "  tol=0.001, verbose=False)\n"
     ]
    }
   ],
   "source": [
    "from sklearn.svm import SVC\n",
    "from sklearn.model_selection import GridSearchCV\n",
    "\n",
    "scv_clf = SVC(kernel='rbf', class_weight='balanced', verbose=False)\n",
    "param_grid = {'C': [1e3, 5e3, 1e4, 5e4, 1e5],\n",
    "              'gamma': [0.0001, 0.0005, 0.001, 0.005, 0.01, 0.1], }\n",
    "svc_clf = GridSearchCV(scv_clf, param_grid, cv=5)\n",
    "svc_clf.fit(nba_prepared, nba_labels)\n",
    "\n",
    "print(\"Best estimator found by grid search:\")\n",
    "print(svc_clf.best_estimator_)"
   ]
  },
  {
   "cell_type": "code",
   "execution_count": 99,
   "metadata": {},
   "outputs": [],
   "source": [
    "from sklearn.model_selection import cross_val_score\n",
    "from sklearn.model_selection import cross_val_predict\n",
    "from sklearn.metrics import confusion_matrix, precision_score\n",
    "from sklearn.metrics import roc_curve, roc_auc_score\n",
    "\n",
    "def scores(m, fs, tgt, fname):\n",
    "    cross_val_score(m, fs, tgt, cv=5)\n",
    "    y_train_pred = cross_val_predict(m, fs, tgt, cv=5)\n",
    "    print(confusion_matrix(nba_labels, y_train_pred))\n",
    "    print(\"precision score:\", precision_score(nba_labels, y_train_pred))\n",
    "    fpr, tpr, thresholds = roc_curve(nba_labels, y_train_pred)\n",
    "    print(\"roc_auc:\", roc_auc_score(nba_labels, y_train_pred))\n",
    "    temp = pd.DataFrame({\"fpr\":fpr, \"tpr\":tpr, \"thresholds\":thresholds})\n",
    "    temp.to_csv(\"scores/\"+fname+\".csv\")\n",
    "    preds = pd.DataFrame({\"Prediction\":y_train_pred})\n",
    "    x = pd.concat([preds.reset_index(drop=True), \n",
    "                   train_set.reset_index(drop=True)], axis=1)\n",
    "    x.to_csv(\"results/\"+fname+\".csv\")"
   ]
  },
  {
   "cell_type": "code",
   "execution_count": 100,
   "metadata": {},
   "outputs": [
    {
     "name": "stdout",
     "output_type": "stream",
     "text": [
      "[[41 24]\n",
      " [24 29]]\n",
      "precision score: 0.5471698113207547\n",
      "roc_auc: 0.5889695210449928\n"
     ]
    }
   ],
   "source": [
    "scores(svc_clf, nba_prepared, nba_labels, f)"
   ]
  }
 ],
 "metadata": {
  "kernelspec": {
   "display_name": "Python 3",
   "language": "python",
   "name": "python3"
  },
  "language_info": {
   "codemirror_mode": {
    "name": "ipython",
    "version": 3
   },
   "file_extension": ".py",
   "mimetype": "text/x-python",
   "name": "python",
   "nbconvert_exporter": "python",
   "pygments_lexer": "ipython3",
   "version": "3.5.1"
  }
 },
 "nbformat": 4,
 "nbformat_minor": 2
}
