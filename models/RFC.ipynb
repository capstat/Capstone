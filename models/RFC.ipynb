{
 "cells": [
  {
   "cell_type": "code",
   "execution_count": 4,
   "metadata": {},
   "outputs": [],
   "source": [
    "import pandas as pd\n",
    "import numpy as np\n",
    "from sklearn.model_selection import train_test_split\n",
    "\n",
    "nba_ = pd.read_csv(\"/Users/ncapofari/Documents/CUNY_SPS/Capstone/%s\" \n",
    "                  % \"nba_scraper/data_sets/4factor_model_data.csv\")\n",
    "\n",
    "train_set, test_set = train_test_split(nba_, \n",
    "                                       test_size=0.2, \n",
    "                                       random_state=23)\n",
    "\n",
    "#train_set = train_set[train_set['Seed_Diff'] > 0]\n",
    "#train_set = train_set[train_set['Seed_Diff'] > 1]\n",
    "train_set = train_set[train_set['Seed_Diff'] == 1]"
   ]
  },
  {
   "cell_type": "code",
   "execution_count": 5,
   "metadata": {},
   "outputs": [],
   "source": [
    "#models\n",
    "\n",
    "#nba_train = train_set[\"Seed_Diff\"].copy().values.reshape(-1, 1)\n",
    "#nba_train = train_set[\"Pyt_Win_Pct_Diff\"].copy().values.reshape(-1, 1)\n",
    "nba_train = train_set.drop([\"Seed_Diff\",\"Pyt_Win_Pct_Diff\",\n",
    "                            \"Won_Series\", \"id\"], axis=1)\n",
    "\n",
    "f = \"four_fact_RFC_is_one\"\n",
    "\n",
    "nba_labels = train_set[\"Won_Series\"].copy()\n",
    "nba_labels = (nba_labels == 1)\n",
    "nba_test = test_set.copy()"
   ]
  },
  {
   "cell_type": "code",
   "execution_count": 12,
   "metadata": {},
   "outputs": [
    {
     "name": "stdout",
     "output_type": "stream",
     "text": [
      "(115, 5)\n",
      "['eFG..Misc', 'TOV..Misc', 'FT.FGA.Misc', 'DRB..Misc', 'ORB..Misc_._Opponent']\n"
     ]
    }
   ],
   "source": [
    "from sklearn.preprocessing import StandardScaler\n",
    "from sklearn.pipeline import Pipeline\n",
    "from sklearn.feature_selection import SelectKBest\n",
    "from sklearn.feature_selection import f_classif\n",
    "\n",
    "pipeline = Pipeline([\n",
    "    ('std_scaler', StandardScaler()),\n",
    "    ('select', SelectKBest(f_classif, 5))\n",
    "])\n",
    "\n",
    "nba_prepared = pipeline.fit_transform(nba_train, nba_labels)\n",
    "print(nba_prepared.shape)\n",
    "\n",
    "support = pipeline.named_steps['select'].get_support()\n",
    "k_features = [] \n",
    "\n",
    "for b, feature in zip(support, list(nba_train.columns.values)):\n",
    "    if b: k_features.append(feature)\n",
    "\n",
    "print(k_features)"
   ]
  },
  {
   "cell_type": "code",
   "execution_count": 16,
   "metadata": {},
   "outputs": [
    {
     "name": "stdout",
     "output_type": "stream",
     "text": [
      "Best estimator found by grid search:\n",
      "RandomForestClassifier(bootstrap=True, class_weight=None, criterion='gini',\n",
      "            max_depth=None, max_features='auto', max_leaf_nodes=None,\n",
      "            min_impurity_decrease=0.0, min_impurity_split=None,\n",
      "            min_samples_leaf=1, min_samples_split=2,\n",
      "            min_weight_fraction_leaf=0.0, n_estimators=20, n_jobs=1,\n",
      "            oob_score=False, random_state=23, verbose=0, warm_start=False)\n"
     ]
    }
   ],
   "source": [
    "from sklearn.ensemble import RandomForestClassifier\n",
    "from sklearn.model_selection import GridSearchCV\n",
    "\n",
    "rfc_clf = RandomForestClassifier(random_state=23)\n",
    "param_grid = {'n_estimators': [5, 10, 20, 50, 100],}\n",
    "rfc_clf = GridSearchCV(rfc_clf, param_grid, cv=5)\n",
    "rfc_clf.fit(nba_prepared, nba_labels)\n",
    "\n",
    "print(\"Best estimator found by grid search:\")\n",
    "print(rfc_clf.best_estimator_)"
   ]
  },
  {
   "cell_type": "code",
   "execution_count": 17,
   "metadata": {},
   "outputs": [],
   "source": [
    "from sklearn.model_selection import cross_val_score\n",
    "from sklearn.model_selection import cross_val_predict\n",
    "from sklearn.metrics import confusion_matrix, precision_score\n",
    "from sklearn.metrics import roc_curve, roc_auc_score\n",
    "\n",
    "def scores(m, fs, tgt, fname):\n",
    "    cross_val_score(m, fs, tgt, cv=5)\n",
    "    y_train_pred = cross_val_predict(m, fs, tgt, cv=5)\n",
    "    print(confusion_matrix(tgt, y_train_pred))\n",
    "    print(\"precision score:\", precision_score(tgt, y_train_pred))\n",
    "    fpr, tpr, thresholds = roc_curve(tgt, y_train_pred)\n",
    "    print(\"roc_auc:\", roc_auc_score(tgt, y_train_pred))\n",
    "    temp = pd.DataFrame({\"fpr\":fpr, \"tpr\":tpr, \"thresholds\":thresholds})\n",
    "    temp.to_csv(\"scores/\"+fname+\".csv\")\n",
    "    preds = pd.DataFrame({\"Prediction\":y_train_pred})\n",
    "    x = pd.concat([preds.reset_index(drop=True), \n",
    "                   train_set.reset_index(drop=True)], axis=1)\n",
    "    x.to_csv(\"results/\"+fname+\".csv\")"
   ]
  },
  {
   "cell_type": "code",
   "execution_count": 18,
   "metadata": {},
   "outputs": [
    {
     "name": "stdout",
     "output_type": "stream",
     "text": [
      "[[41 19]\n",
      " [29 26]]\n",
      "precision score: 0.5777777777777777\n",
      "roc_auc: 0.578030303030303\n"
     ]
    }
   ],
   "source": [
    "scores(rfc_clf, nba_prepared, nba_labels, f)"
   ]
  }
 ],
 "metadata": {
  "kernelspec": {
   "display_name": "Python 3",
   "language": "python",
   "name": "python3"
  },
  "language_info": {
   "codemirror_mode": {
    "name": "ipython",
    "version": 3
   },
   "file_extension": ".py",
   "mimetype": "text/x-python",
   "name": "python",
   "nbconvert_exporter": "python",
   "pygments_lexer": "ipython3",
   "version": "3.5.1"
  }
 },
 "nbformat": 4,
 "nbformat_minor": 2
}
